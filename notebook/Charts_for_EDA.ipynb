{
 "cells": [
  {
   "cell_type": "code",
   "execution_count": 251,
   "id": "06b0f3df",
   "metadata": {},
   "outputs": [],
   "source": [
    "import matplotlib.pyplot as plt\n",
    "import seaborn as sns\n",
    "import pandas as pd"
   ]
  },
  {
   "cell_type": "code",
   "execution_count": 435,
   "id": "cbb6a537",
   "metadata": {},
   "outputs": [],
   "source": [
    "sns.set_style('white') \n",
    "plt.rc('axes', titlesize = 14)\n",
    "plt.rc('axes', labelsize=13)   \n",
    "plt.rc('xtick', labelsize=12)    \n",
    "plt.rc('ytick', labelsize=12)    \n",
    "plt.rc('legend', fontsize=12)    \n",
    "plt.rc('font', size=12)    \n",
    "\n",
    "colour_palette = ['#ff8b94', '#ffaaa5', '#ffd3b6', '#dcedc1', '#a8e6cf', '#bae1ff', '#d9d2e9']\n",
    "\n",
    "# colour_dict = {'red': '#ff8b94', 'pink': '#ffaaa5', 'orange': '#ffd3b6', 'green': '#dcedc1', 'turquoise': '#a8e6cf', 'blue': '#bae1ff', 'purple': '#d9d2e9'}\n",
    "\n"
   ]
  },
  {
   "cell_type": "code",
   "execution_count": 275,
   "id": "6d7fec95",
   "metadata": {},
   "outputs": [],
   "source": [
    "# Histograms \n",
    "\n",
    "def cont_dist(df, feature):\n",
    "\n",
    "    sns.set_style('white') \n",
    "    sns.set(style=\"ticks\")\n",
    "\n",
    "    fig, (ax_box, ax_hist) = plt.subplots(2, sharex = True, gridspec_kw={\"height_ratios\": (.15, .85)})\n",
    "    \n",
    "    sns.boxplot(df[feature], ax=ax_box, orient = 'h', color = colour_palette[0]) \n",
    "    sns.distplot(df[feature], ax=ax_hist, kde=True, color = colour_palette[0])\n",
    "    ax_box.set(yticks=[])\n",
    "    sns.despine(ax=ax_hist)\n",
    "    sns.despine(ax=ax_box, left=True)\n",
    "    plt.title(feature)\n",
    "    \n",
    "\n"
   ]
  },
  {
   "cell_type": "code",
   "execution_count": 277,
   "id": "17e9c357",
   "metadata": {},
   "outputs": [],
   "source": [
    "df_train = pd.read_csv(\"/Users/gracebarringer/Machine Learning Projects/Kaggle/Obesity Risk - Multi-Class/data/train.csv\")\n",
    "df_train_copy = df_train.copy()"
   ]
  },
  {
   "cell_type": "code",
   "execution_count": 357,
   "id": "8aaf898e",
   "metadata": {},
   "outputs": [],
   "source": [
    "def cat_dist(df, feature):\n",
    "    # Defining plot space\n",
    "    fig, (ax1, ax2) = plt.subplots(ncols = 2)\n",
    "\n",
    "    categories = df[feature].unique().tolist()\n",
    "    colour_list = []\n",
    "    for i in range(len(df[feature].unique())):\n",
    "        colour_list.append(colour_palette[i])\n",
    "\n",
    "    \n",
    "    df_order = df[feature].value_counts()\n",
    "    # Making pie chart \n",
    "    pie_chart = df_order.plot.pie(ax = ax2, autopct='%1.1f%%', labels = None, legend = None, ylabel='', xlabel = '', colors = colour_list, figsize = (12,4))\n",
    "#     plt.title(feature, loc = 'left')\n",
    "#     fig.title(title = feature, loc = 'left')\n",
    "#     ax1.legend(labels = categories, bbox_to_anchor=(0,0), fontsize = 10, ncol = 3, loc = 'upper left')\n",
    "#     ax1.legend(bbox_to_anchor=(1.05, 1.0))\n",
    "\n",
    "\n",
    "#     # Making bar chart \n",
    "#     bar_chart = df_train_copy[feature].value_counts().plot.bar(ax =ax2, xlabel = \"\", figsize = (12,4))\n",
    "    ax1.barh(categories, df_order, label = categories, color = colour_list)\n",
    "    for container in ax1.containers:\n",
    "        ax1.bar_label(container, fmt = '{:,.0f}')\n",
    "    ax1.set(title = \"\", autoscaley_on = True)\n",
    "    ax1.get_xaxis().set_visible(False)\n",
    "#     ax2.set_yticklabels(ax2.get_yticklabels())\n",
    "    ax1.spines['top'].set_edgecolor('white')\n",
    "    ax1.spines['right'].set_edgecolor('white')\n",
    "    ax1.spines['bottom'].set_edgecolor('white')\n",
    "    ax1.spines['left'].set_edgecolor('white')\n",
    "    ax1.set(title = feature)\n",
    "   \n"
   ]
  },
  {
   "cell_type": "code",
   "execution_count": 432,
   "id": "b819d6d6",
   "metadata": {},
   "outputs": [],
   "source": [
    "def cat_cont_dist(df, var1, var2):\n",
    "    \n",
    "    fig, (ax1, ax3, ax2) = plt.subplots(ncols = 3, figsize = (12,6))\n",
    "    \n",
    "    categories = df[var1].unique().tolist()\n",
    "    colour_list = []\n",
    "    for i in range(len(df[var1].unique())):\n",
    "        colour_list.append(colour_palette[i])\n",
    "    \n",
    "#     sns.set(rc={'figure.figsize':(11.7,8.27)})\n",
    "    df_mean = df.groupby(var1)[var2].mean().reset_index()\n",
    "    df_mean = df_mean.sort_values(var2, ascending = False)\n",
    "    sns.barplot(ax = ax1, y=var1, x=var2, data = df_mean, errorbar=('ci', False), palette = colour_list)\n",
    "    ax1.set(title = 'Mean '+var2+' by '+var1)\n",
    "    for container in ax1.containers:\n",
    "        ax1.bar_label(container, fmt = '{:,.1f}')\n",
    "    ax1.spines['top'].set_edgecolor('white')\n",
    "    ax1.spines['right'].set_edgecolor('white')\n",
    "    ax1.spines['bottom'].set_edgecolor('white')\n",
    "    ax1.spines['left'].set_edgecolor('white')\n",
    "\n",
    "    df_median = df.groupby(var1)[var2].median().reset_index()\n",
    "    df_median = df_median.sort_values(var2, ascending = False)\n",
    "    sns.barplot(ax = ax3, y=var1, x=var2, data = df_median, errorbar=('ci', False), palette = colour_list)\n",
    "    ax3.set(title = 'Median '+var2+' by '+var1)\n",
    "    ax3.set(yticklabels = [], ylabel = '')\n",
    "    for container in ax3.containers:\n",
    "        ax3.bar_label(container, fmt = '{:,.1f}')\n",
    "    ax3.spines['top'].set_edgecolor('white')\n",
    "    ax3.spines['right'].set_edgecolor('white')\n",
    "    ax3.spines['bottom'].set_edgecolor('white')\n",
    "    ax3.spines['left'].set_edgecolor('white')\n",
    "    \n",
    "#     df_violin = df.sort_values()\n",
    "    sns.boxplot(ax=ax2, y= var1, x=var2, data = df, palette = colour_list, order = df_mean[var1])\n",
    "    ax2.set(yticklabels = [], ylabel = '')\n",
    "    ax2.set(title = 'Distribution of '+var2+' by '+var1)\n",
    "    ax2.spines['top'].set_edgecolor('white')\n",
    "    ax2.spines['right'].set_edgecolor('white')\n",
    "    ax2.spines['bottom'].set_edgecolor('white')\n",
    "    ax2.spines['left'].set_edgecolor('white')"
   ]
  },
  {
   "cell_type": "code",
   "execution_count": 257,
   "id": "3319d7b7",
   "metadata": {},
   "outputs": [],
   "source": [
    "def scatter_plot(df, var1, var2):\n",
    "    \n",
    "    sns.jointplot(x=df[var2], y=df[var1], color = colour_palette[0])\n"
   ]
  },
  {
   "cell_type": "code",
   "execution_count": 258,
   "id": "cf030117",
   "metadata": {},
   "outputs": [],
   "source": [
    "def scatter_matrix(df, hue_var, hue):\n",
    "    if hue == False:\n",
    "        sns.pairplot(df) \n",
    "    else:    \n",
    "        sns.pairplot(df, hue = hue_var, palette = colour_palette)"
   ]
  },
  {
   "cell_type": "code",
   "execution_count": 428,
   "id": "8441da0d",
   "metadata": {},
   "outputs": [],
   "source": [
    "def corr_heat_map(df):\n",
    "    fig, ax = plt.subplots(figsize=(12, 12))\n",
    "    sns.heatmap(df.corr(), ax=ax, annot=True, color = colour_palette)\n",
    "    plt.show()"
   ]
  },
  {
   "cell_type": "code",
   "execution_count": 417,
   "id": "e8ec9b23",
   "metadata": {},
   "outputs": [],
   "source": [
    "def cat_heat_map(df, var1, var2):\n",
    "    df_new = df[[var1,var2]].copy()\n",
    "    df_agg = df_new.groupby([var1, var2]).value_counts().reset_index()\n",
    "    df_agg['perc'] = df_agg['count']/df_agg['count'].sum()\n",
    "    df_pivot = df_agg.pivot_table(values = 'perc', index = var1, columns = var2)\n",
    "    fig, ax = plt.subplots(figsize=(4, 4))\n",
    "    sns.heatmap(df_pivot, ax=ax, annot=True, color = colour_palette, fmt = '.1%')\n"
   ]
  },
  {
   "cell_type": "code",
   "execution_count": 358,
   "id": "a98c8a60",
   "metadata": {},
   "outputs": [],
   "source": [
    "def cat_cat_dist(df, var1, var2):\n",
    "    sns.set_style('white') \n",
    "    df = df.sort_values(by = [var1, var2])\n",
    "    plt.figure(figsize=(20,5))\n",
    "    plt.subplot(121)\n",
    "    sns.countplot(df, x = var2, hue=df[var1], palette = colour_palette)\n",
    "    plt.title(var2)    \n",
    "    plt.xticks(rotation=90)\n",
    "    plt.legend(bbox_to_anchor=(1.05, 1.0), loc= 'upper left')\n",
    "\n"
   ]
  },
  {
   "cell_type": "code",
   "execution_count": 261,
   "id": "08427b4b",
   "metadata": {},
   "outputs": [],
   "source": [
    "def cont_cont_target_dist(df, target, var1, var2, alph):\n",
    "    sns.set_style('white') \n",
    "    sns.jointplot(x=df[var1], y=df[var2], color = colour_palette[0], hue=df[target], palette = colour_palette, alpha = alph)\n",
    "    plt.legend(bbox_to_anchor=(1.05, 1.0), loc= 'upper left')"
   ]
  },
  {
   "cell_type": "code",
   "execution_count": 541,
   "id": "ea612862",
   "metadata": {},
   "outputs": [],
   "source": [
    "def cat_target_dist(df, target, var1):\n",
    "    \n",
    "    cat_list = df[var1].unique().tolist()\n",
    "#     print(cat_list)\n",
    "    cat_dict = {}\n",
    "    for i in cat_list:\n",
    "        cat_dict[i] = df[df[var1] == i][target].value_counts().sort_index()\n",
    "    \n",
    "#     for i in cat_dict.keys():\n",
    "#         cat_dict[i].sort_index\n",
    "    if len(cat_list)>2:\n",
    "        fig, axs = plt.subplots(len(cat_list)//2+1, 2, figsize=(16, 12))\n",
    "        axs = axs.flatten()\n",
    "    else:\n",
    "        fig, axs = plt.subplots(1, 2, figsize=(16, 12))\n",
    "        axs = axs.flatten()\n",
    "\n",
    "    for i, cat in enumerate(cat_dict.values()):\n",
    "        axs[i].pie(x=cat.values, labels = cat.index, colors = colour_palette, autopct='%.0f%%', textprops={'fontsize': 11})\n",
    "        axs[i].set_title(var1+'-'+cat_list[i]+\" vs. \"+target+\" Distribution\")\n",
    "        \n",
    "    if len(cat_list)%2!=0:\n",
    "        axs[-1].axis('off')\n",
    "        \n",
    "    plt.tight_layout()\n",
    "    plt.show()\n",
    "    "
   ]
  }
 ],
 "metadata": {
  "kernelspec": {
   "display_name": "Python 3 (ipykernel)",
   "language": "python",
   "name": "python3"
  },
  "language_info": {
   "codemirror_mode": {
    "name": "ipython",
    "version": 3
   },
   "file_extension": ".py",
   "mimetype": "text/x-python",
   "name": "python",
   "nbconvert_exporter": "python",
   "pygments_lexer": "ipython3",
   "version": "3.11.5"
  }
 },
 "nbformat": 4,
 "nbformat_minor": 5
}
